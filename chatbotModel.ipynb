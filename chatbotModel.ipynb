{
  "cells": [
    {
      "cell_type": "markdown",
      "metadata": {
        "id": "view-in-github",
        "colab_type": "text"
      },
      "source": [
        "<a href=\"https://colab.research.google.com/github/asaad2k/FitersChatBot/blob/master/chatbotModel.ipynb\" target=\"_parent\"><img src=\"https://colab.research.google.com/assets/colab-badge.svg\" alt=\"Open In Colab\"/></a>"
      ]
    },
    {
      "cell_type": "code",
      "execution_count": null,
      "metadata": {
        "id": "aJBkAYJ8YvFa"
      },
      "outputs": [],
      "source": [
        "!pip install Flask\n",
        "!pip install flask-ngrok"
      ]
    },
    {
      "cell_type": "code",
      "execution_count": null,
      "metadata": {
        "id": "ftO0PGo0ZFzL"
      },
      "outputs": [],
      "source": [
        "!pip install -U sentence-transformers\n",
        "!pip install transformers"
      ]
    },
    {
      "cell_type": "code",
      "execution_count": null,
      "metadata": {
        "id": "VtfzafFffmGj"
      },
      "outputs": [],
      "source": [
        "!pip install pyngrok\n"
      ]
    },
    {
      "cell_type": "code",
      "execution_count": null,
      "metadata": {
        "id": "xiGJFI5uhWRp"
      },
      "outputs": [],
      "source": [
        "from flask import Flask, request, jsonify\n",
        "import pandas as pd\n",
        "import re\n",
        "from sentence_transformers import SentenceTransformer, util\n",
        "from pyngrok import ngrok"
      ]
    },
    {
      "cell_type": "code",
      "execution_count": null,
      "metadata": {
        "id": "-Talwl-XK2mc"
      },
      "outputs": [],
      "source": [
        "# @title\n",
        "\n",
        "\n",
        "# Initialize Flask app\n",
        "app = Flask(__name__)\n",
        "\n",
        "# Load Sentence Transformer model\n",
        "sentence_model = SentenceTransformer('all-MiniLM-L6-v2')\n",
        "\n",
        "# Load data from Excel\n",
        "df = pd.read_excel('')\n",
        "questions = df['Question'].tolist()\n",
        "question_embeddings = sentence_model.encode(questions)\n",
        "\n",
        "# Function to check if text contains a URL\n",
        "def contains_url(text):\n",
        "    url_pattern = re.compile(r'https?://\\S+|www\\.\\S+')\n",
        "    return bool(url_pattern.search(text))\n",
        "\n",
        "# Function to calculate similarity\n",
        "def get_similarity(user_query):\n",
        "    query_embedding = sentence_model.encode(user_query)\n",
        "    similarities = util.cos_sim(query_embedding, question_embeddings)\n",
        "\n",
        "    if similarities.shape[1] == 0:\n",
        "        return None, None\n",
        "\n",
        "    most_similar_index = similarities.argmax().item()\n",
        "    similarity_score = similarities[0][most_similar_index].item()\n",
        "\n",
        "    return similarity_score, most_similar_index\n",
        "\n",
        "# Function to retrieve the answer\n",
        "def get_answer(most_similar_index):\n",
        "    if 0 <= most_similar_index < len(df):\n",
        "        answer = df['Answer'].iloc[most_similar_index]\n",
        "        if contains_url(answer):\n",
        "            return answer\n",
        "        else:\n",
        "            return answer\n",
        "    else:\n",
        "        return \"No valid answer found.\"\n",
        "\n",
        "# Route to handle POST requests for asking questions\n",
        "@app.route('/ask', methods=['POST'])\n",
        "def ask():\n",
        "    user_input = request.json.get('question')\n",
        "    similarity_score, most_similar_index = get_similarity(user_input)\n",
        "\n",
        "    if most_similar_index is None:\n",
        "        return jsonify({\"error\": \"No valid similarity found.\"}), 400\n",
        "\n",
        "    if 0 <= most_similar_index < len(df):\n",
        "        if similarity_score >= 0.5:\n",
        "            answer = get_answer(most_similar_index)\n",
        "            return jsonify({\"answer\": answer, \"similarity_score\": similarity_score})\n",
        "        else:\n",
        "            return jsonify({\"answer\": \"I don't have an answer for this question.\"})\n",
        "    else:\n",
        "        return jsonify({\"error\": \"The computed index is out of bounds.\"}), 500\n",
        "\n",
        "# Run Flask app on a different port (5001 to avoid conflicts)\n",
        "if __name__ == '__main__':\n",
        "    # Step 3: Expose the Flask Server with ngrok\n",
        "    # Set up ngrok to tunnel the Flask server\n",
        "    ngrok.set_auth_token('2kbLYnxcFcMehMwam0ebC2Ha1o8_5xgWyPRDXV5dX3HsaZ7Nr')  # Replace with your ngrok auth token\n",
        "    public_url = ngrok.connect(5001)\n",
        "    print(f\"Public URL: {public_url}\")\n",
        "\n",
        "    # Run the Flask app\n",
        "    app.run(port=5001)\n"
      ]
    }
  ],
  "metadata": {
    "colab": {
      "provenance": [],
      "toc_visible": true,
      "include_colab_link": true
    },
    "kernelspec": {
      "display_name": "Python 3",
      "name": "python3"
    },
    "language_info": {
      "name": "python"
    }
  },
  "nbformat": 4,
  "nbformat_minor": 0
}